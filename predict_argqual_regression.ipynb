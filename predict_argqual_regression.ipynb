{
 "cells": [
  {
   "cell_type": "code",
   "execution_count": 2,
   "metadata": {},
   "outputs": [
    {
     "name": "stderr",
     "output_type": "stream",
     "text": [
      "/Users/maxschaffelder/venv/first_venv/lib/python3.10/site-packages/tqdm/auto.py:21: TqdmWarning: IProgress not found. Please update jupyter and ipywidgets. See https://ipywidgets.readthedocs.io/en/stable/user_install.html\n",
      "  from .autonotebook import tqdm as notebook_tqdm\n"
     ]
    }
   ],
   "source": [
    "import pandas as pd\n",
    "from sklearn.model_selection import train_test_split\n",
    "from sklearn.feature_extraction.text import TfidfVectorizer\n",
    "from sklearn.linear_model import LinearRegression\n",
    "from sklearn.metrics import mean_squared_error\n",
    "import torch\n",
    "from torch.utils.data import DataLoader, Dataset, random_split\n",
    "from transformers import RobertaTokenizer, RobertaModel, AdamW\n",
    "from torch.optim import AdamW\n",
    "import matplotlib.pyplot as plt\n",
    "from itertools import product\n",
    "import torch.nn.functional as F"
   ]
  },
  {
   "cell_type": "code",
   "execution_count": 3,
   "metadata": {},
   "outputs": [],
   "source": [
    "# Load data\n",
    "df = pd.read_csv(\"Data/persuasion_data.csv\")"
   ]
  },
  {
   "cell_type": "code",
   "execution_count": 4,
   "metadata": {},
   "outputs": [
    {
     "name": "stderr",
     "output_type": "stream",
     "text": [
      "Some weights of RobertaModel were not initialized from the model checkpoint at roberta-base and are newly initialized: ['roberta.pooler.dense.bias', 'roberta.pooler.dense.weight']\n",
      "You should probably TRAIN this model on a down-stream task to be able to use it for predictions and inference.\n"
     ]
    },
    {
     "name": "stdout",
     "output_type": "stream",
     "text": [
      "Model loaded successfully\n"
     ]
    }
   ],
   "source": [
    "# Define the model architecture\n",
    "class RobertaRegression(torch.nn.Module):\n",
    "    def __init__(self, base_model):\n",
    "        super(RobertaRegression, self).__init__()\n",
    "        self.base_model = base_model\n",
    "        self.regressor = torch.nn.Linear(base_model.config.hidden_size, 1)\n",
    "\n",
    "    def forward(self, input_ids, attention_mask):\n",
    "        outputs = self.base_model(input_ids=input_ids, attention_mask=attention_mask)\n",
    "        last_hidden_state = outputs.last_hidden_state\n",
    "        pooled_output = last_hidden_state[:, 0, :]  # CLS token\n",
    "        return self.regressor(pooled_output)\n",
    "\n",
    "# Set the device\n",
    "device = torch.device('mps' if torch.backends.mps.is_available() else 'cuda' if torch.cuda.is_available() else 'cpu')\n",
    "\n",
    "# Load the tokenizer and base model\n",
    "tokenizer = RobertaTokenizer.from_pretrained('roberta-base')\n",
    "base_model = RobertaModel.from_pretrained('roberta-base')\n",
    "\n",
    "# Initialize the regression model\n",
    "model = RobertaRegression(base_model)\n",
    "model = model.to(device)\n",
    "\n",
    "# Load the saved model state\n",
    "model.load_state_dict(torch.load('/Users/maxschaffelder/Desktop/Social Computing/Term Project/Code/soc_project/Models/roberta_regressor.pth', map_location=device))\n",
    "model.eval()\n",
    "print(\"Model loaded successfully\")"
   ]
  },
  {
   "cell_type": "code",
   "execution_count": 5,
   "metadata": {},
   "outputs": [],
   "source": [
    "# Prediction function\n",
    "\n",
    "def predict_scores(model, tokenizer, texts, max_len=512, device='mps'):\n",
    "    model.to(device)\n",
    "    model.eval()\n",
    "    predictions = []\n",
    "\n",
    "    for text in texts:\n",
    "        encoding = tokenizer.encode_plus(\n",
    "            text,\n",
    "            max_length=max_len,\n",
    "            truncation=True,\n",
    "            padding='max_length',\n",
    "            add_special_tokens=True,\n",
    "            return_tensors='pt',\n",
    "        )\n",
    "\n",
    "        input_ids = encoding['input_ids'].to(device)\n",
    "        attention_mask = encoding['attention_mask'].to(device)\n",
    "\n",
    "        with torch.no_grad():\n",
    "            output = model(input_ids=input_ids, attention_mask=attention_mask)\n",
    "            prediction = output.squeeze().item()\n",
    "            predictions.append(prediction)\n",
    "    \n",
    "    return predictions\n"
   ]
  },
  {
   "cell_type": "code",
   "execution_count": 6,
   "metadata": {},
   "outputs": [
    {
     "data": {
      "text/html": [
       "<div>\n",
       "<style scoped>\n",
       "    .dataframe tbody tr th:only-of-type {\n",
       "        vertical-align: middle;\n",
       "    }\n",
       "\n",
       "    .dataframe tbody tr th {\n",
       "        vertical-align: top;\n",
       "    }\n",
       "\n",
       "    .dataframe thead th {\n",
       "        text-align: right;\n",
       "    }\n",
       "</style>\n",
       "<table border=\"1\" class=\"dataframe\">\n",
       "  <thead>\n",
       "    <tr style=\"text-align: right;\">\n",
       "      <th></th>\n",
       "      <th>worker_id</th>\n",
       "      <th>claim</th>\n",
       "      <th>argument</th>\n",
       "      <th>source</th>\n",
       "      <th>prompt_type</th>\n",
       "      <th>rating_initial</th>\n",
       "      <th>rating_final</th>\n",
       "      <th>persuasiveness_metric</th>\n",
       "      <th>predicted_score</th>\n",
       "    </tr>\n",
       "  </thead>\n",
       "  <tbody>\n",
       "    <tr>\n",
       "      <th>0</th>\n",
       "      <td>PQVTZECGNK3K</td>\n",
       "      <td>Governments and technology companies must do m...</td>\n",
       "      <td>It's time for governments and tech companies t...</td>\n",
       "      <td>Claude 2</td>\n",
       "      <td>Expert Writer Rhetorics</td>\n",
       "      <td>7 - Strongly support</td>\n",
       "      <td>7 - Strongly support</td>\n",
       "      <td>0</td>\n",
       "      <td>1.910730</td>\n",
       "    </tr>\n",
       "    <tr>\n",
       "      <th>1</th>\n",
       "      <td>3KTT9HNPV9WX</td>\n",
       "      <td>Governments and technology companies must do m...</td>\n",
       "      <td>In today's hyper-connected world, our personal...</td>\n",
       "      <td>Claude 3 Haiku</td>\n",
       "      <td>Expert Writer Rhetorics</td>\n",
       "      <td>7 - Strongly support</td>\n",
       "      <td>7 - Strongly support</td>\n",
       "      <td>0</td>\n",
       "      <td>1.820516</td>\n",
       "    </tr>\n",
       "    <tr>\n",
       "      <th>2</th>\n",
       "      <td>M76GMRF46C69</td>\n",
       "      <td>Cultured/lab-grown meats should be allowed to ...</td>\n",
       "      <td>The future of food must include cultured/lab-g...</td>\n",
       "      <td>Claude 2</td>\n",
       "      <td>Compelling Case</td>\n",
       "      <td>3 - Somewhat oppose</td>\n",
       "      <td>5 - Somewhat support</td>\n",
       "      <td>2</td>\n",
       "      <td>1.939637</td>\n",
       "    </tr>\n",
       "    <tr>\n",
       "      <th>3</th>\n",
       "      <td>3W4KKCTPTP7R</td>\n",
       "      <td>Social media companies should be required to l...</td>\n",
       "      <td>Social media companies should be required to l...</td>\n",
       "      <td>Claude 2</td>\n",
       "      <td>Compelling Case</td>\n",
       "      <td>3 - Somewhat oppose</td>\n",
       "      <td>6 - Support</td>\n",
       "      <td>3</td>\n",
       "      <td>2.011710</td>\n",
       "    </tr>\n",
       "    <tr>\n",
       "      <th>4</th>\n",
       "      <td>QQDKMRY3HRXJ</td>\n",
       "      <td>Employers should be allowed to monitor employe...</td>\n",
       "      <td>Allowing employers to monitor employees throug...</td>\n",
       "      <td>Claude 3 Opus</td>\n",
       "      <td>Logical Reasoning</td>\n",
       "      <td>5 - Somewhat support</td>\n",
       "      <td>5 - Somewhat support</td>\n",
       "      <td>0</td>\n",
       "      <td>1.909627</td>\n",
       "    </tr>\n",
       "  </tbody>\n",
       "</table>\n",
       "</div>"
      ],
      "text/plain": [
       "      worker_id                                              claim  \\\n",
       "0  PQVTZECGNK3K  Governments and technology companies must do m...   \n",
       "1  3KTT9HNPV9WX  Governments and technology companies must do m...   \n",
       "2  M76GMRF46C69  Cultured/lab-grown meats should be allowed to ...   \n",
       "3  3W4KKCTPTP7R  Social media companies should be required to l...   \n",
       "4  QQDKMRY3HRXJ  Employers should be allowed to monitor employe...   \n",
       "\n",
       "                                            argument          source  \\\n",
       "0  It's time for governments and tech companies t...        Claude 2   \n",
       "1  In today's hyper-connected world, our personal...  Claude 3 Haiku   \n",
       "2  The future of food must include cultured/lab-g...        Claude 2   \n",
       "3  Social media companies should be required to l...        Claude 2   \n",
       "4  Allowing employers to monitor employees throug...   Claude 3 Opus   \n",
       "\n",
       "               prompt_type        rating_initial          rating_final  \\\n",
       "0  Expert Writer Rhetorics  7 - Strongly support  7 - Strongly support   \n",
       "1  Expert Writer Rhetorics  7 - Strongly support  7 - Strongly support   \n",
       "2          Compelling Case   3 - Somewhat oppose  5 - Somewhat support   \n",
       "3          Compelling Case   3 - Somewhat oppose           6 - Support   \n",
       "4        Logical Reasoning  5 - Somewhat support  5 - Somewhat support   \n",
       "\n",
       "   persuasiveness_metric  predicted_score  \n",
       "0                      0         1.910730  \n",
       "1                      0         1.820516  \n",
       "2                      2         1.939637  \n",
       "3                      3         2.011710  \n",
       "4                      0         1.909627  "
      ]
     },
     "execution_count": 6,
     "metadata": {},
     "output_type": "execute_result"
    }
   ],
   "source": [
    "# Make prediction for entire dataset and add in new column\n",
    "\n",
    "arguments = df['argument'].tolist()\n",
    "\n",
    "# Predict scores\n",
    "predicted_scores = predict_scores(model, tokenizer, arguments, device=\"mps\")\n",
    "\n",
    "# Add the predicted scores to the DataFrame\n",
    "df['predicted_score'] = predicted_scores\n",
    "\n",
    "# Save the updated DataFrame (optional)\n",
    "# df.to_csv('Data/persuasion_data_with_argqual.csv', index=False)\n",
    "\n",
    "# Print the DataFrame to verify the new column\n",
    "df.head()"
   ]
  },
  {
   "cell_type": "code",
   "execution_count": 8,
   "metadata": {},
   "outputs": [],
   "source": [
    "#df.to_csv(\"Data/persuasion_data_preds.csv\")"
   ]
  },
  {
   "cell_type": "code",
   "execution_count": null,
   "metadata": {},
   "outputs": [],
   "source": [
    "# Predictions for our annotated data\n",
    "\n",
    "df_annotated = pd.read_csv(\"Data/arguments_to_annotate.csv\")\n",
    "arguments = df_annotated['argument'].tolist()\n",
    "\n",
    "# Predict scores\n",
    "predicted_scores = predict_scores(model, tokenizer, arguments, device=\"mps\")\n",
    "\n",
    "# Add the predicted scores to the DataFrame\n",
    "df_annotated['predicted_score'] = predicted_scores\n",
    "\n",
    "# Save the updated DataFrame (optional)\n",
    "# df_annotated.to_csv('Data/arguments_to_annotate_with_argqual.csv', index=False)\n",
    "\n",
    "# Print the DataFrame to verify the new column\n",
    "#df_annotated.head()"
   ]
  },
  {
   "cell_type": "code",
   "execution_count": 18,
   "metadata": {},
   "outputs": [
    {
     "data": {
      "text/plain": [
       "<Axes: >"
      ]
     },
     "execution_count": 18,
     "metadata": {},
     "output_type": "execute_result"
    },
    {
     "data": {
      "image/png": "[encoded data removed]",
      "text/plain": [
       "<Figure size 640x480 with 1 Axes>"
      ]
     },
     "metadata": {},
     "output_type": "display_data"
    }
   ],
   "source": [
    "df_annotated[\"predicted_score\"].hist()"
   ]
  }
 ],
 "metadata": {
  "kernelspec": {
   "display_name": "first_venv",
   "language": "python",
   "name": "python3"
  },
  "language_info": {
   "codemirror_mode": {
    "name": "ipython",
    "version": 3
   },
   "file_extension": ".py",
   "mimetype": "text/x-python",
   "name": "python",
   "nbconvert_exporter": "python",
   "pygments_lexer": "ipython3",
   "version": "3.10.12"
  }
 },
 "nbformat": 4,
 "nbformat_minor": 2
}
